{
  "nbformat": 4,
  "nbformat_minor": 0,
  "metadata": {
    "colab": {
      "name": "[Submission] Chee Kiang Heng_DSTA Jumpstart.ipynb",
      "provenance": [],
      "collapsed_sections": [],
      "toc_visible": true,
      "authorship_tag": "ABX9TyMHaSuLavWT7FC+LarWXSns",
      "include_colab_link": true
    },
    "kernelspec": {
      "name": "python3",
      "display_name": "Python 3"
    },
    "accelerator": "GPU"
  },
  "cells": [
    {
      "cell_type": "markdown",
      "metadata": {
        "id": "view-in-github",
        "colab_type": "text"
      },
      "source": [
        "<a href=\"https://colab.research.google.com/github/ckheng78/DeepLearning/blob/master/%5BSubmission%5D_Chee_Kiang_Heng_DSTA_Jumpstart.ipynb\" target=\"_parent\"><img src=\"https://colab.research.google.com/assets/colab-badge.svg\" alt=\"Open In Colab\"/></a>"
      ]
    },
    {
      "cell_type": "markdown",
      "metadata": {
        "id": "mCrUGHBV2jNE",
        "colab_type": "text"
      },
      "source": [
        "## Initialisation"
      ]
    },
    {
      "cell_type": "code",
      "metadata": {
        "id": "7zoLxXHXyGiQ",
        "colab_type": "code",
        "outputId": "169791b1-97a3-4415-c1af-dcda38a4b2a4",
        "colab": {
          "base_uri": "https://localhost:8080/",
          "height": 102
        }
      },
      "source": [
        "! git clone https://github.com/mdda/colab_helper"
      ],
      "execution_count": 0,
      "outputs": [
        {
          "output_type": "stream",
          "text": [
            "Cloning into 'colab_helper'...\n",
            "remote: Enumerating objects: 277, done.\u001b[K\n",
            "remote: Total 277 (delta 0), reused 0 (delta 0), pack-reused 277\u001b[K\n",
            "Receiving objects: 100% (277/277), 56.17 KiB | 639.00 KiB/s, done.\n",
            "Resolving deltas: 100% (170/170), done.\n"
          ],
          "name": "stdout"
        }
      ]
    },
    {
      "cell_type": "code",
      "metadata": {
        "id": "cJyfQrhk2q1a",
        "colab_type": "code",
        "outputId": "9982089f-e262-4393-bd66-62cb23c3896e",
        "colab": {
          "base_uri": "https://localhost:8080/",
          "height": 81
        }
      },
      "source": [
        "from colab_helper import utils as chu"
      ],
      "execution_count": 0,
      "outputs": [
        {
          "output_type": "display_data",
          "data": {
            "image/png": "[encoded data removed]",
            "text/plain": [
              "<Figure size 432x288 with 1 Axes>"
            ]
          },
          "metadata": {
            "tags": [],
            "needs_background": "light"
          }
        }
      ]
    },
    {
      "cell_type": "code",
      "metadata": {
        "id": "ImBPVnhj3BwJ",
        "colab_type": "code",
        "outputId": "831ea99a-a9f3-40ba-95b2-4f6e7b2cf5bb",
        "colab": {
          "base_uri": "https://localhost:8080/",
          "height": 204
        }
      },
      "source": [
        "! pip install kaggle"
      ],
      "execution_count": 0,
      "outputs": [
        {
          "output_type": "stream",
          "text": [
            "Requirement already satisfied: kaggle in /usr/local/lib/python3.6/dist-packages (1.5.6)\n",
            "Requirement already satisfied: certifi in /usr/local/lib/python3.6/dist-packages (from kaggle) (2020.4.5.1)\n",
            "Requirement already satisfied: python-dateutil in /usr/local/lib/python3.6/dist-packages (from kaggle) (2.8.1)\n",
            "Requirement already satisfied: tqdm in /usr/local/lib/python3.6/dist-packages (from kaggle) (4.38.0)\n",
            "Requirement already satisfied: urllib3<1.25,>=1.21.1 in /usr/local/lib/python3.6/dist-packages (from kaggle) (1.24.3)\n",
            "Requirement already satisfied: six>=1.10 in /usr/local/lib/python3.6/dist-packages (from kaggle) (1.12.0)\n",
            "Requirement already satisfied: python-slugify in /usr/local/lib/python3.6/dist-packages (from kaggle) (4.0.0)\n",
            "Requirement already satisfied: requests in /usr/local/lib/python3.6/dist-packages (from kaggle) (2.21.0)\n",
            "Requirement already satisfied: text-unidecode>=1.3 in /usr/local/lib/python3.6/dist-packages (from python-slugify->kaggle) (1.3)\n",
            "Requirement already satisfied: chardet<3.1.0,>=3.0.2 in /usr/local/lib/python3.6/dist-packages (from requests->kaggle) (3.0.4)\n",
            "Requirement already satisfied: idna<2.9,>=2.5 in /usr/local/lib/python3.6/dist-packages (from requests->kaggle) (2.8)\n"
          ],
          "name": "stdout"
        }
      ]
    },
    {
      "cell_type": "markdown",
      "metadata": {
        "id": "I3JBygzH3n4J",
        "colab_type": "text"
      },
      "source": [
        "## Getting Dataset from Kaggle"
      ]
    },
    {
      "cell_type": "code",
      "metadata": {
        "id": "3PuVrLh73YSD",
        "colab_type": "code",
        "outputId": "7f9e8507-a761-47e1-805c-a2b187ad56cc",
        "colab": {
          "base_uri": "https://localhost:8080/",
          "height": 34
        }
      },
      "source": [
        "chu.kaggle_credentials(username=\"totoro78\", key=\"21012b2767dfca6022dd647db39f6000\")"
      ],
      "execution_count": 0,
      "outputs": [
        {
          "output_type": "stream",
          "text": [
            "Credentials written to /root/.kaggle/kaggle.json\n"
          ],
          "name": "stdout"
        }
      ]
    },
    {
      "cell_type": "code",
      "metadata": {
        "id": "IF2J5mPg3tHM",
        "colab_type": "code",
        "outputId": "8df41f9b-9360-4261-d4cd-d7e5ea23f901",
        "colab": {
          "base_uri": "https://localhost:8080/",
          "height": 68
        }
      },
      "source": [
        "# Description page : https://www.kaggle.com/cfpb/us-consumer-finance-complaints\n",
        "! kaggle datasets download cfpb/us-consumer-finance-complaints"
      ],
      "execution_count": 0,
      "outputs": [
        {
          "output_type": "stream",
          "text": [
            "Downloading us-consumer-finance-complaints.zip to /content\n",
            " 77% 65.0M/84.5M [00:01<00:01, 13.7MB/s]\n",
            "100% 84.5M/84.5M [00:01<00:00, 46.1MB/s]\n"
          ],
          "name": "stdout"
        }
      ]
    },
    {
      "cell_type": "code",
      "metadata": {
        "id": "HqC7bxCN7b95",
        "colab_type": "code",
        "outputId": "c5e6fb43-aa21-432a-8a2e-8c5a9ab43df6",
        "colab": {
          "base_uri": "https://localhost:8080/",
          "height": 68
        }
      },
      "source": [
        "! unzip us-consumer-finance-complaints.zip\n",
        "! rm us-consumer-finance-complaints.zip\n",
        "! rm database.sqlite"
      ],
      "execution_count": 0,
      "outputs": [
        {
          "output_type": "stream",
          "text": [
            "Archive:  us-consumer-finance-complaints.zip\n",
            "  inflating: consumer_complaints.csv  \n",
            "  inflating: database.sqlite         \n"
          ],
          "name": "stdout"
        }
      ]
    },
    {
      "cell_type": "markdown",
      "metadata": {
        "id": "rFJDQtpW75Vg",
        "colab_type": "text"
      },
      "source": [
        "## Initialise modules - Start Here is the Runtime if still valid\n"
      ]
    },
    {
      "cell_type": "code",
      "metadata": {
        "id": "-ZdHG5v3791_",
        "colab_type": "code",
        "outputId": "428e4805-cc6a-4446-db0a-9255d61ed288",
        "colab": {
          "base_uri": "https://localhost:8080/",
          "height": 34
        }
      },
      "source": [
        "import pandas as pd\n",
        "import numpy as np\n",
        "from keras.preprocessing.text import text_to_word_sequence\n",
        "from keras.preprocessing.text import Tokenizer\n",
        "from keras.preprocessing import sequence\n",
        "from sklearn.preprocessing import LabelEncoder, OneHotEncoder\n",
        "from keras import utils as np_utils\n",
        "from sklearn.utils import shuffle\n",
        "from sklearn.model_selection import train_test_split"
      ],
      "execution_count": 0,
      "outputs": [
        {
          "output_type": "stream",
          "text": [
            "Using TensorFlow backend.\n"
          ],
          "name": "stderr"
        }
      ]
    },
    {
      "cell_type": "markdown",
      "metadata": {
        "id": "FX64tn188sEA",
        "colab_type": "text"
      },
      "source": [
        "## Load Data"
      ]
    },
    {
      "cell_type": "code",
      "metadata": {
        "id": "ir1FAlq28uK2",
        "colab_type": "code",
        "outputId": "71e00f65-7ca6-4534-eeb6-1045f67708ee",
        "colab": {
          "base_uri": "https://localhost:8080/",
          "height": 71
        }
      },
      "source": [
        "d = pd.read_csv(\"consumer_complaints.csv\")"
      ],
      "execution_count": 0,
      "outputs": [
        {
          "output_type": "stream",
          "text": [
            "/usr/local/lib/python3.6/dist-packages/IPython/core/interactiveshell.py:2718: DtypeWarning: Columns (5,11) have mixed types.Specify dtype option on import or set low_memory=False.\n",
            "  interactivity=interactivity, compiler=compiler, result=result)\n"
          ],
          "name": "stderr"
        }
      ]
    },
    {
      "cell_type": "markdown",
      "metadata": {
        "id": "UBRLNjhg88bh",
        "colab_type": "text"
      },
      "source": [
        "## Understanding Dataset"
      ]
    },
    {
      "cell_type": "code",
      "metadata": {
        "id": "R1eovCtD8_JA",
        "colab_type": "code",
        "outputId": "8fe0c29e-ecd7-4222-8324-651964a1494e",
        "colab": {
          "base_uri": "https://localhost:8080/",
          "height": 394
        }
      },
      "source": [
        "d.head()"
      ],
      "execution_count": 0,
      "outputs": [
        {
          "output_type": "execute_result",
          "data": {
            "text/html": [
              "<div>\n",
              "<style scoped>\n",
              "    .dataframe tbody tr th:only-of-type {\n",
              "        vertical-align: middle;\n",
              "    }\n",
              "\n",
              "    .dataframe tbody tr th {\n",
              "        vertical-align: top;\n",
              "    }\n",
              "\n",
              "    .dataframe thead th {\n",
              "        text-align: right;\n",
              "    }\n",
              "</style>\n",
              "<table border=\"1\" class=\"dataframe\">\n",
              "  <thead>\n",
              "    <tr style=\"text-align: right;\">\n",
              "      <th></th>\n",
              "      <th>date_received</th>\n",
              "      <th>product</th>\n",
              "      <th>sub_product</th>\n",
              "      <th>issue</th>\n",
              "      <th>sub_issue</th>\n",
              "      <th>consumer_complaint_narrative</th>\n",
              "      <th>company_public_response</th>\n",
              "      <th>company</th>\n",
              "      <th>state</th>\n",
              "      <th>zipcode</th>\n",
              "      <th>tags</th>\n",
              "      <th>consumer_consent_provided</th>\n",
              "      <th>submitted_via</th>\n",
              "      <th>date_sent_to_company</th>\n",
              "      <th>company_response_to_consumer</th>\n",
              "      <th>timely_response</th>\n",
              "      <th>consumer_disputed?</th>\n",
              "      <th>complaint_id</th>\n",
              "    </tr>\n",
              "  </thead>\n",
              "  <tbody>\n",
              "    <tr>\n",
              "      <th>0</th>\n",
              "      <td>08/30/2013</td>\n",
              "      <td>Mortgage</td>\n",
              "      <td>Other mortgage</td>\n",
              "      <td>Loan modification,collection,foreclosure</td>\n",
              "      <td>NaN</td>\n",
              "      <td>NaN</td>\n",
              "      <td>NaN</td>\n",
              "      <td>U.S. Bancorp</td>\n",
              "      <td>CA</td>\n",
              "      <td>95993</td>\n",
              "      <td>NaN</td>\n",
              "      <td>NaN</td>\n",
              "      <td>Referral</td>\n",
              "      <td>09/03/2013</td>\n",
              "      <td>Closed with explanation</td>\n",
              "      <td>Yes</td>\n",
              "      <td>Yes</td>\n",
              "      <td>511074</td>\n",
              "    </tr>\n",
              "    <tr>\n",
              "      <th>1</th>\n",
              "      <td>08/30/2013</td>\n",
              "      <td>Mortgage</td>\n",
              "      <td>Other mortgage</td>\n",
              "      <td>Loan servicing, payments, escrow account</td>\n",
              "      <td>NaN</td>\n",
              "      <td>NaN</td>\n",
              "      <td>NaN</td>\n",
              "      <td>Wells Fargo &amp; Company</td>\n",
              "      <td>CA</td>\n",
              "      <td>91104</td>\n",
              "      <td>NaN</td>\n",
              "      <td>NaN</td>\n",
              "      <td>Referral</td>\n",
              "      <td>09/03/2013</td>\n",
              "      <td>Closed with explanation</td>\n",
              "      <td>Yes</td>\n",
              "      <td>Yes</td>\n",
              "      <td>511080</td>\n",
              "    </tr>\n",
              "    <tr>\n",
              "      <th>2</th>\n",
              "      <td>08/30/2013</td>\n",
              "      <td>Credit reporting</td>\n",
              "      <td>NaN</td>\n",
              "      <td>Incorrect information on credit report</td>\n",
              "      <td>Account status</td>\n",
              "      <td>NaN</td>\n",
              "      <td>NaN</td>\n",
              "      <td>Wells Fargo &amp; Company</td>\n",
              "      <td>NY</td>\n",
              "      <td>11764</td>\n",
              "      <td>NaN</td>\n",
              "      <td>NaN</td>\n",
              "      <td>Postal mail</td>\n",
              "      <td>09/18/2013</td>\n",
              "      <td>Closed with explanation</td>\n",
              "      <td>Yes</td>\n",
              "      <td>No</td>\n",
              "      <td>510473</td>\n",
              "    </tr>\n",
              "    <tr>\n",
              "      <th>3</th>\n",
              "      <td>08/30/2013</td>\n",
              "      <td>Student loan</td>\n",
              "      <td>Non-federal student loan</td>\n",
              "      <td>Repaying your loan</td>\n",
              "      <td>Repaying your loan</td>\n",
              "      <td>NaN</td>\n",
              "      <td>NaN</td>\n",
              "      <td>Navient Solutions, Inc.</td>\n",
              "      <td>MD</td>\n",
              "      <td>21402</td>\n",
              "      <td>NaN</td>\n",
              "      <td>NaN</td>\n",
              "      <td>Email</td>\n",
              "      <td>08/30/2013</td>\n",
              "      <td>Closed with explanation</td>\n",
              "      <td>Yes</td>\n",
              "      <td>Yes</td>\n",
              "      <td>510326</td>\n",
              "    </tr>\n",
              "    <tr>\n",
              "      <th>4</th>\n",
              "      <td>08/30/2013</td>\n",
              "      <td>Debt collection</td>\n",
              "      <td>Credit card</td>\n",
              "      <td>False statements or representation</td>\n",
              "      <td>Attempted to collect wrong amount</td>\n",
              "      <td>NaN</td>\n",
              "      <td>NaN</td>\n",
              "      <td>Resurgent Capital Services L.P.</td>\n",
              "      <td>GA</td>\n",
              "      <td>30106</td>\n",
              "      <td>NaN</td>\n",
              "      <td>NaN</td>\n",
              "      <td>Web</td>\n",
              "      <td>08/30/2013</td>\n",
              "      <td>Closed with explanation</td>\n",
              "      <td>Yes</td>\n",
              "      <td>Yes</td>\n",
              "      <td>511067</td>\n",
              "    </tr>\n",
              "  </tbody>\n",
              "</table>\n",
              "</div>"
            ],
            "text/plain": [
              "  date_received           product  ... consumer_disputed? complaint_id\n",
              "0    08/30/2013          Mortgage  ...                Yes       511074\n",
              "1    08/30/2013          Mortgage  ...                Yes       511080\n",
              "2    08/30/2013  Credit reporting  ...                 No       510473\n",
              "3    08/30/2013      Student loan  ...                Yes       510326\n",
              "4    08/30/2013   Debt collection  ...                Yes       511067\n",
              "\n",
              "[5 rows x 18 columns]"
            ]
          },
          "metadata": {
            "tags": []
          },
          "execution_count": 9
        }
      ]
    },
    {
      "cell_type": "code",
      "metadata": {
        "id": "fiuy7eRx-RYb",
        "colab_type": "code",
        "outputId": "7d89ee0b-7036-4ec3-c7e8-b11b14101ee6",
        "colab": {
          "base_uri": "https://localhost:8080/",
          "height": 136
        }
      },
      "source": [
        "print(d.shape)\n",
        "print(d.columns)"
      ],
      "execution_count": 0,
      "outputs": [
        {
          "output_type": "stream",
          "text": [
            "(555957, 18)\n",
            "Index(['date_received', 'product', 'sub_product', 'issue', 'sub_issue',\n",
            "       'consumer_complaint_narrative', 'company_public_response', 'company',\n",
            "       'state', 'zipcode', 'tags', 'consumer_consent_provided',\n",
            "       'submitted_via', 'date_sent_to_company', 'company_response_to_consumer',\n",
            "       'timely_response', 'consumer_disputed?', 'complaint_id'],\n",
            "      dtype='object')\n"
          ],
          "name": "stdout"
        }
      ]
    },
    {
      "cell_type": "code",
      "metadata": {
        "id": "oTUTgQbx-bRc",
        "colab_type": "code",
        "outputId": "00ccd5ac-af8d-4a11-ad05-1367981e6da9",
        "colab": {
          "base_uri": "https://localhost:8080/",
          "height": 442
        }
      },
      "source": [
        "d.info()"
      ],
      "execution_count": 0,
      "outputs": [
        {
          "output_type": "stream",
          "text": [
            "<class 'pandas.core.frame.DataFrame'>\n",
            "RangeIndex: 555957 entries, 0 to 555956\n",
            "Data columns (total 18 columns):\n",
            " #   Column                        Non-Null Count   Dtype \n",
            "---  ------                        --------------   ----- \n",
            " 0   date_received                 555957 non-null  object\n",
            " 1   product                       555957 non-null  object\n",
            " 2   sub_product                   397635 non-null  object\n",
            " 3   issue                         555957 non-null  object\n",
            " 4   sub_issue                     212622 non-null  object\n",
            " 5   consumer_complaint_narrative  66806 non-null   object\n",
            " 6   company_public_response       85124 non-null   object\n",
            " 7   company                       555957 non-null  object\n",
            " 8   state                         551070 non-null  object\n",
            " 9   zipcode                       551452 non-null  object\n",
            " 10  tags                          77959 non-null   object\n",
            " 11  consumer_consent_provided     123458 non-null  object\n",
            " 12  submitted_via                 555957 non-null  object\n",
            " 13  date_sent_to_company          555957 non-null  object\n",
            " 14  company_response_to_consumer  555957 non-null  object\n",
            " 15  timely_response               555957 non-null  object\n",
            " 16  consumer_disputed?            555957 non-null  object\n",
            " 17  complaint_id                  555957 non-null  int64 \n",
            "dtypes: int64(1), object(17)\n",
            "memory usage: 76.3+ MB\n"
          ],
          "name": "stdout"
        }
      ]
    },
    {
      "cell_type": "markdown",
      "metadata": {
        "id": "izo5kBPf--wb",
        "colab_type": "text"
      },
      "source": [
        "## Data Preparation"
      ]
    },
    {
      "cell_type": "code",
      "metadata": {
        "id": "hlzNFTwf-x90",
        "colab_type": "code",
        "outputId": "2a2c3404-26e1-40a8-ec3f-55a9da47d5ea",
        "colab": {
          "base_uri": "https://localhost:8080/",
          "height": 204
        }
      },
      "source": [
        "# get what we need\n",
        "df = d[['product', 'consumer_complaint_narrative']]\n",
        "df.head()"
      ],
      "execution_count": 0,
      "outputs": [
        {
          "output_type": "execute_result",
          "data": {
            "text/html": [
              "<div>\n",
              "<style scoped>\n",
              "    .dataframe tbody tr th:only-of-type {\n",
              "        vertical-align: middle;\n",
              "    }\n",
              "\n",
              "    .dataframe tbody tr th {\n",
              "        vertical-align: top;\n",
              "    }\n",
              "\n",
              "    .dataframe thead th {\n",
              "        text-align: right;\n",
              "    }\n",
              "</style>\n",
              "<table border=\"1\" class=\"dataframe\">\n",
              "  <thead>\n",
              "    <tr style=\"text-align: right;\">\n",
              "      <th></th>\n",
              "      <th>product</th>\n",
              "      <th>consumer_complaint_narrative</th>\n",
              "    </tr>\n",
              "  </thead>\n",
              "  <tbody>\n",
              "    <tr>\n",
              "      <th>0</th>\n",
              "      <td>Mortgage</td>\n",
              "      <td>NaN</td>\n",
              "    </tr>\n",
              "    <tr>\n",
              "      <th>1</th>\n",
              "      <td>Mortgage</td>\n",
              "      <td>NaN</td>\n",
              "    </tr>\n",
              "    <tr>\n",
              "      <th>2</th>\n",
              "      <td>Credit reporting</td>\n",
              "      <td>NaN</td>\n",
              "    </tr>\n",
              "    <tr>\n",
              "      <th>3</th>\n",
              "      <td>Student loan</td>\n",
              "      <td>NaN</td>\n",
              "    </tr>\n",
              "    <tr>\n",
              "      <th>4</th>\n",
              "      <td>Debt collection</td>\n",
              "      <td>NaN</td>\n",
              "    </tr>\n",
              "  </tbody>\n",
              "</table>\n",
              "</div>"
            ],
            "text/plain": [
              "            product consumer_complaint_narrative\n",
              "0          Mortgage                          NaN\n",
              "1          Mortgage                          NaN\n",
              "2  Credit reporting                          NaN\n",
              "3      Student loan                          NaN\n",
              "4   Debt collection                          NaN"
            ]
          },
          "metadata": {
            "tags": []
          },
          "execution_count": 12
        }
      ]
    },
    {
      "cell_type": "code",
      "metadata": {
        "id": "v-hrKwv4-5dG",
        "colab_type": "code",
        "outputId": "ee7f3612-039f-4ec5-d68e-df5a818383c6",
        "colab": {
          "base_uri": "https://localhost:8080/",
          "height": 204
        }
      },
      "source": [
        "# we cannot classify empty complaint so we need to remove them\n",
        "df = df.dropna()\n",
        "df.head()"
      ],
      "execution_count": 0,
      "outputs": [
        {
          "output_type": "execute_result",
          "data": {
            "text/html": [
              "<div>\n",
              "<style scoped>\n",
              "    .dataframe tbody tr th:only-of-type {\n",
              "        vertical-align: middle;\n",
              "    }\n",
              "\n",
              "    .dataframe tbody tr th {\n",
              "        vertical-align: top;\n",
              "    }\n",
              "\n",
              "    .dataframe thead th {\n",
              "        text-align: right;\n",
              "    }\n",
              "</style>\n",
              "<table border=\"1\" class=\"dataframe\">\n",
              "  <thead>\n",
              "    <tr style=\"text-align: right;\">\n",
              "      <th></th>\n",
              "      <th>product</th>\n",
              "      <th>consumer_complaint_narrative</th>\n",
              "    </tr>\n",
              "  </thead>\n",
              "  <tbody>\n",
              "    <tr>\n",
              "      <th>190126</th>\n",
              "      <td>Debt collection</td>\n",
              "      <td>XXXX has claimed I owe them {$27.00} for XXXX ...</td>\n",
              "    </tr>\n",
              "    <tr>\n",
              "      <th>190135</th>\n",
              "      <td>Consumer Loan</td>\n",
              "      <td>Due to inconsistencies in the amount owed that...</td>\n",
              "    </tr>\n",
              "    <tr>\n",
              "      <th>190155</th>\n",
              "      <td>Mortgage</td>\n",
              "      <td>In XX/XX/XXXX my wages that I earned at my job...</td>\n",
              "    </tr>\n",
              "    <tr>\n",
              "      <th>190207</th>\n",
              "      <td>Mortgage</td>\n",
              "      <td>I have an open and current mortgage with Chase...</td>\n",
              "    </tr>\n",
              "    <tr>\n",
              "      <th>190208</th>\n",
              "      <td>Mortgage</td>\n",
              "      <td>XXXX was submitted XX/XX/XXXX. At the time I s...</td>\n",
              "    </tr>\n",
              "  </tbody>\n",
              "</table>\n",
              "</div>"
            ],
            "text/plain": [
              "                product                       consumer_complaint_narrative\n",
              "190126  Debt collection  XXXX has claimed I owe them {$27.00} for XXXX ...\n",
              "190135    Consumer Loan  Due to inconsistencies in the amount owed that...\n",
              "190155         Mortgage  In XX/XX/XXXX my wages that I earned at my job...\n",
              "190207         Mortgage  I have an open and current mortgage with Chase...\n",
              "190208         Mortgage  XXXX was submitted XX/XX/XXXX. At the time I s..."
            ]
          },
          "metadata": {
            "tags": []
          },
          "execution_count": 13
        }
      ]
    },
    {
      "cell_type": "code",
      "metadata": {
        "id": "tUoSOoiUAEad",
        "colab_type": "code",
        "outputId": "81456af3-d780-4db3-9e0b-840ccafa4118",
        "colab": {
          "base_uri": "https://localhost:8080/",
          "height": 68
        }
      },
      "source": [
        "# check the number of classes\n",
        "classes = np.unique(df['product'])\n",
        "num_classes = len(classes)\n",
        "print(\"There are \", len(classes), \" classes and they are = \", classes)"
      ],
      "execution_count": 0,
      "outputs": [
        {
          "output_type": "stream",
          "text": [
            "There are  11  classes and they are =  ['Bank account or service' 'Consumer Loan' 'Credit card'\n",
            " 'Credit reporting' 'Debt collection' 'Money transfers' 'Mortgage'\n",
            " 'Other financial service' 'Payday loan' 'Prepaid card' 'Student loan']\n"
          ],
          "name": "stdout"
        }
      ]
    },
    {
      "cell_type": "code",
      "metadata": {
        "id": "DpBcl4CyAxrX",
        "colab_type": "code",
        "outputId": "784415e5-5b43-45ac-e26d-12de2277c5d2",
        "colab": {
          "base_uri": "https://localhost:8080/",
          "height": 51
        }
      },
      "source": [
        "# extract products from df as an array\n",
        "y_products = df.iloc[:, 0].values\n",
        "# extract consumer complaints as an array\n",
        "x_complaints = df.iloc[:, 1].values\n",
        "\n",
        "print(\"y_products shape\", y_products.shape)\n",
        "print(\"x_complaints shape\", x_complaints.shape)"
      ],
      "execution_count": 0,
      "outputs": [
        {
          "output_type": "stream",
          "text": [
            "y_products shape (66806,)\n",
            "x_complaints shape (66806,)\n"
          ],
          "name": "stdout"
        }
      ]
    },
    {
      "cell_type": "markdown",
      "metadata": {
        "id": "PuhcTExYBske",
        "colab_type": "text"
      },
      "source": [
        "## Text Preprocessing"
      ]
    },
    {
      "cell_type": "code",
      "metadata": {
        "id": "UEls9Z0aBrSM",
        "colab_type": "code",
        "outputId": "5e497b0f-b998-4b25-eed3-650ff035d5b9",
        "colab": {
          "base_uri": "https://localhost:8080/",
          "height": 136
        }
      },
      "source": [
        " # Encode consumer complaints with sequence numbers\n",
        "tk = Tokenizer(num_words = 200, filters = '!\"#$%&()*+,-./:;<=>?@[\\\\]^_`{|}~\\t\\n',lower = True, split = \" \")\n",
        "tk.fit_on_texts(x_complaints)\n",
        "x_complaints_input = tk.texts_to_sequences(x_complaints)\n",
        "x_complaints_input = sequence.pad_sequences(x_complaints_input, maxlen = 200)\n",
        "\n",
        "print(x_complaints_input)"
      ],
      "execution_count": 0,
      "outputs": [
        {
          "output_type": "stream",
          "text": [
            "[[  0   0   0 ...   3  84 108]\n",
            " [  0   0   0 ...   2   8   6]\n",
            " [145  10 112 ...   7   9   7]\n",
            " ...\n",
            " [  0   0   0 ... 171  66   1]\n",
            " [  0   0   0 ...   2 150  68]\n",
            " [ 32   2   4 ...   5  24  16]]\n"
          ],
          "name": "stdout"
        }
      ]
    },
    {
      "cell_type": "code",
      "metadata": {
        "id": "3-ayeX-iDZw9",
        "colab_type": "code",
        "outputId": "c64ba64d-c714-4a3f-c946-2916c4bfaaf0",
        "colab": {
          "base_uri": "https://localhost:8080/",
          "height": 68
        }
      },
      "source": [
        "# Encode products as label (need to convert to numerics)\n",
        "le_products = LabelEncoder()\n",
        "y_products_output = le_products.fit_transform(y_products)\n",
        "print(y_products_output)\n",
        "# print out unique label and its count\n",
        "print(np.unique(y_products_output, return_counts=True))"
      ],
      "execution_count": 0,
      "outputs": [
        {
          "output_type": "stream",
          "text": [
            "[4 1 6 ... 8 6 6]\n",
            "(array([ 0,  1,  2,  3,  4,  5,  6,  7,  8,  9, 10]), array([ 5711,  3678,  7929, 12526, 17552,   666, 14919,   110,   726,\n",
            "         861,  2128]))\n"
          ],
          "name": "stdout"
        }
      ]
    },
    {
      "cell_type": "code",
      "metadata": {
        "id": "FNQJMau1EGut",
        "colab_type": "code",
        "outputId": "8f5e07dc-e3b5-415d-c56c-6523fd6e0c98",
        "colab": {
          "base_uri": "https://localhost:8080/",
          "height": 136
        }
      },
      "source": [
        "# num_classes was declared earlier\n",
        "y_products_classes = y = np_utils.to_categorical(y_products_output, num_classes= num_classes)\n",
        "print(y_products_classes)"
      ],
      "execution_count": 0,
      "outputs": [
        {
          "output_type": "stream",
          "text": [
            "[[0. 0. 0. ... 0. 0. 0.]\n",
            " [0. 1. 0. ... 0. 0. 0.]\n",
            " [0. 0. 0. ... 0. 0. 0.]\n",
            " ...\n",
            " [0. 0. 0. ... 1. 0. 0.]\n",
            " [0. 0. 0. ... 0. 0. 0.]\n",
            " [0. 0. 0. ... 0. 0. 0.]]\n"
          ],
          "name": "stdout"
        }
      ]
    },
    {
      "cell_type": "markdown",
      "metadata": {
        "id": "LhkPSi1HF6Fv",
        "colab_type": "text"
      },
      "source": [
        "## Training / Testing Data Generation"
      ]
    },
    {
      "cell_type": "code",
      "metadata": {
        "id": "ciWEe7Z8F9wB",
        "colab_type": "code",
        "outputId": "e2cb2ede-265d-4139-875b-3bb85000d1ee",
        "colab": {
          "base_uri": "https://localhost:8080/",
          "height": 85
        }
      },
      "source": [
        "x_complaints_input_1, y_products_classes_1 = shuffle(x_complaints_input, y_products_classes, random_state=42)\n",
        "\n",
        "split = 0.8\n",
        "\n",
        "x_train, x_test, y_train, y_test = train_test_split(x_complaints_input_1, y_products_classes_1, test_size=0.1, random_state=42)\n",
        "\n",
        "# training dataset\n",
        "print(\"Training dataset shape\")\n",
        "print(x_train.shape, y_train.shape)\n",
        "# testing dataset\n",
        "print(\"Testing dataset shape\")\n",
        "print(x_test.shape, y_test.shape)"
      ],
      "execution_count": 0,
      "outputs": [
        {
          "output_type": "stream",
          "text": [
            "Training dataset shape\n",
            "(60125, 200) (60125, 11)\n",
            "Testing dataset shape\n",
            "(6681, 200) (6681, 11)\n"
          ],
          "name": "stdout"
        }
      ]
    },
    {
      "cell_type": "code",
      "metadata": {
        "id": "ckQJCCzTIoAr",
        "colab_type": "code",
        "outputId": "1dde8876-8ed3-4dd3-d475-e185b073917d",
        "colab": {
          "base_uri": "https://localhost:8080/",
          "height": 51
        }
      },
      "source": [
        "x_train_p = sequence.pad_sequences(x_train, maxlen=201)\n",
        "x_test_p = sequence.pad_sequences(x_test, maxlen=201)\n",
        "print('x_train_p shape:', x_train_p.shape)\n",
        "print('x_test_p shape:', x_test_p.shape)"
      ],
      "execution_count": 0,
      "outputs": [
        {
          "output_type": "stream",
          "text": [
            "x_train_p shape: (60125, 201)\n",
            "x_test_p shape: (6681, 201)\n"
          ],
          "name": "stdout"
        }
      ]
    },
    {
      "cell_type": "markdown",
      "metadata": {
        "id": "l1vS3rLgIv-y",
        "colab_type": "text"
      },
      "source": [
        "## Data Pipeline"
      ]
    },
    {
      "cell_type": "code",
      "metadata": {
        "id": "9ZTsReJyIvgC",
        "colab_type": "code",
        "colab": {}
      },
      "source": [
        "from keras.models import Sequential\n",
        "from keras.layers import Dense, Dropout, Activation\n",
        "from keras.layers import Embedding, LSTM\n",
        "from keras.layers import Conv1D, GlobalMaxPooling1D, MaxPooling1D\n",
        "\n",
        "max_features = 1000\n",
        "maxlen = 201\n",
        "embedding_dims = 50\n",
        "filters = 250\n",
        "kernel_size = 3\n",
        "hidden_dims = 250\n",
        "\n",
        "# CNN with max pooling imeplementation \n",
        "model = Sequential()\n",
        "# we start off with an efficient embedding layer which maps\n",
        "# our vocab indices into embedding_dims dimensions\n",
        "model.add(Embedding(max_features,\n",
        "                    embedding_dims,\n",
        "                    input_length=maxlen))\n",
        "model.add(Dropout(0.2))\n",
        "\n",
        "# we add a Convolution1D, which will learn filters\n",
        "# word group filters of size filter_length:\n",
        "model.add(Conv1D(filters,\n",
        "                 kernel_size,\n",
        "                 padding='valid',\n",
        "                 activation='relu',\n",
        "                 strides=1))\n",
        "# we use max pooling:\n",
        "# model.add(GlobalMaxPooling1D())\n",
        "model.add(MaxPooling1D(pool_size=4))\n",
        "\n",
        "# added LSTM\n",
        "model.add(LSTM(250))\n",
        "\n",
        "# We add a vanilla hidden layer:\n",
        "model.add(Dense(hidden_dims))\n",
        "model.add(Dropout(0.2))\n",
        "model.add(Activation('relu'))\n",
        "\n",
        "# We project onto a single unit output layer, and squash it with a sigmoid:\n",
        "model.add(Dense(11))\n",
        "model.add(Activation('softmax'))"
      ],
      "execution_count": 0,
      "outputs": []
    },
    {
      "cell_type": "markdown",
      "metadata": {
        "id": "3i-YeUj3I63b",
        "colab_type": "text"
      },
      "source": [
        "## Model Building"
      ]
    },
    {
      "cell_type": "code",
      "metadata": {
        "id": "k3HIPhZ_I8st",
        "colab_type": "code",
        "outputId": "7b027021-1c21-4673-a1ae-20b0562c7131",
        "colab": {
          "base_uri": "https://localhost:8080/",
          "height": 493
        }
      },
      "source": [
        "model.compile(loss='categorical_crossentropy',\n",
        "              optimizer='rmsprop',\n",
        "              metrics=['accuracy'])\n",
        "\n",
        "model.summary()"
      ],
      "execution_count": 0,
      "outputs": [
        {
          "output_type": "stream",
          "text": [
            "Model: \"sequential_3\"\n",
            "_________________________________________________________________\n",
            "Layer (type)                 Output Shape              Param #   \n",
            "=================================================================\n",
            "embedding_3 (Embedding)      (None, 201, 50)           50000     \n",
            "_________________________________________________________________\n",
            "dropout_5 (Dropout)          (None, 201, 50)           0         \n",
            "_________________________________________________________________\n",
            "conv1d_3 (Conv1D)            (None, 199, 250)          37750     \n",
            "_________________________________________________________________\n",
            "max_pooling1d_3 (MaxPooling1 (None, 49, 250)           0         \n",
            "_________________________________________________________________\n",
            "lstm_3 (LSTM)                (None, 250)               501000    \n",
            "_________________________________________________________________\n",
            "dense_5 (Dense)              (None, 250)               62750     \n",
            "_________________________________________________________________\n",
            "dropout_6 (Dropout)          (None, 250)               0         \n",
            "_________________________________________________________________\n",
            "activation_5 (Activation)    (None, 250)               0         \n",
            "_________________________________________________________________\n",
            "dense_6 (Dense)              (None, 11)                2761      \n",
            "_________________________________________________________________\n",
            "activation_6 (Activation)    (None, 11)                0         \n",
            "=================================================================\n",
            "Total params: 654,261\n",
            "Trainable params: 654,261\n",
            "Non-trainable params: 0\n",
            "_________________________________________________________________\n"
          ],
          "name": "stdout"
        }
      ]
    },
    {
      "cell_type": "markdown",
      "metadata": {
        "id": "uEHw32nMJCFE",
        "colab_type": "text"
      },
      "source": [
        "## Training"
      ]
    },
    {
      "cell_type": "code",
      "metadata": {
        "id": "0XUz-DN8JDgo",
        "colab_type": "code",
        "outputId": "3e7ce970-e5bf-4989-bde0-6029aa230b66",
        "colab": {
          "base_uri": "https://localhost:8080/",
          "height": 445
        }
      },
      "source": [
        "# tried out with 50 epochs but accuracy > val_accuracy consistently after 15 epoch, trying out 15 instead\n",
        "# tried again with 15 but it become consistently accuracy > val_accuracy after 12 epoch\n",
        "# trying 10 epoch\n",
        "model.fit(x_train_p, y_train,\n",
        "          batch_size = 128,\n",
        "          epochs = 10,\n",
        "          validation_data=(x_test_p, y_test))"
      ],
      "execution_count": 0,
      "outputs": [
        {
          "output_type": "stream",
          "text": [
            "/usr/local/lib/python3.6/dist-packages/tensorflow/python/framework/indexed_slices.py:434: UserWarning: Converting sparse IndexedSlices to a dense Tensor of unknown shape. This may consume a large amount of memory.\n",
            "  \"Converting sparse IndexedSlices to a dense Tensor of unknown shape. \"\n"
          ],
          "name": "stderr"
        },
        {
          "output_type": "stream",
          "text": [
            "Train on 60125 samples, validate on 6681 samples\n",
            "Epoch 1/10\n",
            "60125/60125 [==============================] - 43s 707us/step - loss: 1.3471 - accuracy: 0.5466 - val_loss: 1.0088 - val_accuracy: 0.6747\n",
            "Epoch 2/10\n",
            "60125/60125 [==============================] - 42s 700us/step - loss: 0.9846 - accuracy: 0.6800 - val_loss: 0.9020 - val_accuracy: 0.7105\n",
            "Epoch 3/10\n",
            "60125/60125 [==============================] - 42s 701us/step - loss: 0.9046 - accuracy: 0.7014 - val_loss: 0.8734 - val_accuracy: 0.7128\n",
            "Epoch 4/10\n",
            "60125/60125 [==============================] - 41s 680us/step - loss: 0.8646 - accuracy: 0.7138 - val_loss: 0.8538 - val_accuracy: 0.7177\n",
            "Epoch 5/10\n",
            "60125/60125 [==============================] - 42s 698us/step - loss: 0.8352 - accuracy: 0.7231 - val_loss: 0.8119 - val_accuracy: 0.7339\n",
            "Epoch 6/10\n",
            "60125/60125 [==============================] - 41s 690us/step - loss: 0.8129 - accuracy: 0.7297 - val_loss: 0.8553 - val_accuracy: 0.7134\n",
            "Epoch 7/10\n",
            "60125/60125 [==============================] - 41s 686us/step - loss: 0.7905 - accuracy: 0.7354 - val_loss: 0.8141 - val_accuracy: 0.7379\n",
            "Epoch 8/10\n",
            "60125/60125 [==============================] - 41s 690us/step - loss: 0.7686 - accuracy: 0.7427 - val_loss: 0.8493 - val_accuracy: 0.7313\n",
            "Epoch 9/10\n",
            "60125/60125 [==============================] - 41s 682us/step - loss: 0.7472 - accuracy: 0.7488 - val_loss: 0.8137 - val_accuracy: 0.7403\n",
            "Epoch 10/10\n",
            "60125/60125 [==============================] - 41s 686us/step - loss: 0.7276 - accuracy: 0.7546 - val_loss: 0.7932 - val_accuracy: 0.7512\n"
          ],
          "name": "stdout"
        },
        {
          "output_type": "execute_result",
          "data": {
            "text/plain": [
              "<keras.callbacks.callbacks.History at 0x7f71106cd550>"
            ]
          },
          "metadata": {
            "tags": []
          },
          "execution_count": 30
        }
      ]
    },
    {
      "cell_type": "markdown",
      "metadata": {
        "id": "BiJq39AmN8HB",
        "colab_type": "text"
      },
      "source": [
        "## Evaluate Model"
      ]
    },
    {
      "cell_type": "code",
      "metadata": {
        "id": "JqV6k2VNN7hn",
        "colab_type": "code",
        "outputId": "83c27662-2708-4548-c250-38ebc26094c3",
        "colab": {
          "base_uri": "https://localhost:8080/",
          "height": 51
        }
      },
      "source": [
        "model.evaluate(x=x_test_p, y=y_test, batch_size = 128)"
      ],
      "execution_count": 0,
      "outputs": [
        {
          "output_type": "stream",
          "text": [
            "6681/6681 [==============================] - 0s 71us/step\n"
          ],
          "name": "stdout"
        },
        {
          "output_type": "execute_result",
          "data": {
            "text/plain": [
              "[0.7932066430661551, 0.7512348294258118]"
            ]
          },
          "metadata": {
            "tags": []
          },
          "execution_count": 31
        }
      ]
    },
    {
      "cell_type": "markdown",
      "metadata": {
        "id": "iaUZh9t5OK-X",
        "colab_type": "text"
      },
      "source": [
        "## Predict"
      ]
    },
    {
      "cell_type": "code",
      "metadata": {
        "id": "5lSvAM8EOKME",
        "colab_type": "code",
        "outputId": "b8a039ca-76ba-4a1b-fc21-14ad52d11029",
        "colab": {
          "base_uri": "https://localhost:8080/",
          "height": 187
        }
      },
      "source": [
        "offset = np.random.randint(low=1, high=100, size=1)[0]\n",
        "for i in range(10):\n",
        "  j = offset + i\n",
        "  x_to_predict = x_test_p[j:j+1,:]\n",
        "  print(\"j = \", j, \" predicted: \", np.argmax(model.predict(x_to_predict)), \" actual = \", np.argmax(y_test[j]))\n"
      ],
      "execution_count": 0,
      "outputs": [
        {
          "output_type": "stream",
          "text": [
            "j =  4  predicted:  2  actual =  2\n",
            "j =  5  predicted:  10  actual =  10\n",
            "j =  6  predicted:  1  actual =  6\n",
            "j =  7  predicted:  3  actual =  4\n",
            "j =  8  predicted:  6  actual =  6\n",
            "j =  9  predicted:  6  actual =  6\n",
            "j =  10  predicted:  3  actual =  9\n",
            "j =  11  predicted:  4  actual =  4\n",
            "j =  12  predicted:  1  actual =  8\n",
            "j =  13  predicted:  3  actual =  4\n"
          ],
          "name": "stdout"
        }
      ]
    }
  ]
}